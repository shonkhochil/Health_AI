{
 "cells": [
  {
   "cell_type": "code",
   "execution_count": 43,
   "metadata": {},
   "outputs": [],
   "source": [
    "# Credit - Lazy Programmer Bootcamp\n",
    "# Project - Classifying MNIST data set using TF & ANN"
   ]
  },
  {
   "cell_type": "code",
   "execution_count": 1,
   "metadata": {},
   "outputs": [
    {
     "name": "stdout",
     "output_type": "stream",
     "text": [
      "2.3.0\n"
     ]
    }
   ],
   "source": [
    "import tensorflow as tf\n",
    "print(tf.__version__)"
   ]
  },
  {
   "cell_type": "code",
   "execution_count": 18,
   "metadata": {},
   "outputs": [],
   "source": [
    "import matplotlib.pyplot as plt"
   ]
  },
  {
   "cell_type": "code",
   "execution_count": 2,
   "metadata": {},
   "outputs": [],
   "source": [
    "mnist = tf.keras.datasets.mnist"
   ]
  },
  {
   "cell_type": "code",
   "execution_count": 3,
   "metadata": {},
   "outputs": [],
   "source": [
    "(x_train, y_train), (x_test, y_test) = mnist.load_data()"
   ]
  },
  {
   "cell_type": "code",
   "execution_count": 6,
   "metadata": {},
   "outputs": [
    {
     "name": "stdout",
     "output_type": "stream",
     "text": [
      "(60000, 28, 28)\n",
      "(60000,)\n"
     ]
    }
   ],
   "source": [
    "print(x_train.shape)\n",
    "print(y_train.shape)"
   ]
  },
  {
   "cell_type": "code",
   "execution_count": 7,
   "metadata": {},
   "outputs": [
    {
     "name": "stdout",
     "output_type": "stream",
     "text": [
      "(10000, 28, 28)\n",
      "(10000,)\n"
     ]
    }
   ],
   "source": [
    "print(x_test.shape)\n",
    "print(y_test.shape)"
   ]
  },
  {
   "cell_type": "code",
   "execution_count": 10,
   "metadata": {},
   "outputs": [],
   "source": [
    "x_train = x_train/255.0\n",
    "x_test = x_test/255.0"
   ]
  },
  {
   "cell_type": "code",
   "execution_count": 14,
   "metadata": {},
   "outputs": [],
   "source": [
    "# Building a model\n",
    "model = tf.keras.models.Sequential([\n",
    "    tf.keras.layers.Flatten(input_shape=(28,28)),\n",
    "    tf.keras.layers.Dense(128, activation='relu'),\n",
    "    tf.keras.layers.Dropout(0.3),\n",
    "    tf.keras.layers.Dense(10, activation='softmax')\n",
    "])"
   ]
  },
  {
   "cell_type": "code",
   "execution_count": 15,
   "metadata": {},
   "outputs": [],
   "source": [
    "model.compile(optimizer='adam',\n",
    "             loss='sparse_categorical_crossentropy',\n",
    "             metrics=['accuracy'])"
   ]
  },
  {
   "cell_type": "code",
   "execution_count": 16,
   "metadata": {},
   "outputs": [
    {
     "name": "stdout",
     "output_type": "stream",
     "text": [
      "Epoch 1/10\n",
      "1875/1875 [==============================] - ETA: 0s - loss: 0.3222 - accuracy: 0.9043WARNING:tensorflow:Callbacks method `on_test_batch_begin` is slow compared to the batch time (batch time: 0.0001s vs `on_test_batch_begin` time: 0.0010s). Check your callbacks.\n",
      "1875/1875 [==============================] - 4s 2ms/step - loss: 0.3222 - accuracy: 0.9043 - val_loss: 0.1394 - val_accuracy: 0.9593\n",
      "Epoch 2/10\n",
      "1875/1875 [==============================] - 4s 2ms/step - loss: 0.1615 - accuracy: 0.9527 - val_loss: 0.1012 - val_accuracy: 0.9702\n",
      "Epoch 3/10\n",
      "1875/1875 [==============================] - 3s 2ms/step - loss: 0.1248 - accuracy: 0.9618 - val_loss: 0.0879 - val_accuracy: 0.9727\n",
      "Epoch 4/10\n",
      "1875/1875 [==============================] - 3s 2ms/step - loss: 0.1068 - accuracy: 0.9671 - val_loss: 0.0843 - val_accuracy: 0.9728\n",
      "Epoch 5/10\n",
      "1875/1875 [==============================] - 3s 2ms/step - loss: 0.0925 - accuracy: 0.9712 - val_loss: 0.0776 - val_accuracy: 0.9767\n",
      "Epoch 6/10\n",
      "1875/1875 [==============================] - 4s 2ms/step - loss: 0.0836 - accuracy: 0.9737 - val_loss: 0.0766 - val_accuracy: 0.9782\n",
      "Epoch 7/10\n",
      "1875/1875 [==============================] - 4s 2ms/step - loss: 0.0760 - accuracy: 0.9761 - val_loss: 0.0757 - val_accuracy: 0.9762\n",
      "Epoch 8/10\n",
      "1875/1875 [==============================] - 4s 2ms/step - loss: 0.0696 - accuracy: 0.9777 - val_loss: 0.0772 - val_accuracy: 0.9783\n",
      "Epoch 9/10\n",
      "1875/1875 [==============================] - 4s 2ms/step - loss: 0.0666 - accuracy: 0.9789 - val_loss: 0.0756 - val_accuracy: 0.9798\n",
      "Epoch 10/10\n",
      "1875/1875 [==============================] - 3s 2ms/step - loss: 0.0611 - accuracy: 0.9797 - val_loss: 0.0724 - val_accuracy: 0.9791\n"
     ]
    }
   ],
   "source": [
    "r = model.fit(x_train, y_train,\n",
    "             validation_data=(x_test, y_test), epochs=10)"
   ]
  },
  {
   "cell_type": "code",
   "execution_count": 25,
   "metadata": {},
   "outputs": [
    {
     "data": {
      "text/plain": [
       "<matplotlib.legend.Legend at 0x1a217c00790>"
      ]
     },
     "execution_count": 25,
     "metadata": {},
     "output_type": "execute_result"
    },
    {
     "data": {
      "image/png": "[encoded data removed]",
      "text/plain": [
       "<Figure size 720x576 with 1 Axes>"
      ]
     },
     "metadata": {
      "needs_background": "light"
     },
     "output_type": "display_data"
    }
   ],
   "source": [
    "# Plot Loss \n",
    "plt.figure(figsize=(10,8))\n",
    "plt.plot(r.history['loss'], label='loss')\n",
    "plt.plot(r.history['val_loss'], label='val_loss')\n",
    "plt.legend()"
   ]
  },
  {
   "cell_type": "code",
   "execution_count": 26,
   "metadata": {},
   "outputs": [
    {
     "data": {
      "text/plain": [
       "<matplotlib.legend.Legend at 0x1a217c67280>"
      ]
     },
     "execution_count": 26,
     "metadata": {},
     "output_type": "execute_result"
    },
    {
     "data": {
      "image/png": "[encoded data removed]",
      "text/plain": [
       "<Figure size 720x576 with 1 Axes>"
      ]
     },
     "metadata": {
      "needs_background": "light"
     },
     "output_type": "display_data"
    }
   ],
   "source": [
    "# Plot Accuracy \n",
    "plt.figure(figsize=(10,8))\n",
    "plt.plot(r.history['accuracy'], label='accuracy')\n",
    "plt.plot(r.history['val_accuracy'], label='val_accuracy')\n",
    "plt.legend()"
   ]
  },
  {
   "cell_type": "code",
   "execution_count": 27,
   "metadata": {},
   "outputs": [
    {
     "name": "stdout",
     "output_type": "stream",
     "text": [
      "313/313 [==============================] - 0s 933us/step - loss: 0.0724 - accuracy: 0.9791\n"
     ]
    },
    {
     "data": {
      "text/plain": [
       "[0.07242439687252045, 0.9790999889373779]"
      ]
     },
     "execution_count": 27,
     "metadata": {},
     "output_type": "execute_result"
    }
   ],
   "source": [
    "# Evaluate model \n",
    "model.evaluate(x_test, y_test)"
   ]
  },
  {
   "cell_type": "code",
   "execution_count": 28,
   "metadata": {},
   "outputs": [],
   "source": [
    "# Confusion Matrix\n",
    "from sklearn.metrics import confusion_matrix\n",
    "import numpy as np"
   ]
  },
  {
   "cell_type": "code",
   "execution_count": 29,
   "metadata": {},
   "outputs": [
    {
     "name": "stdout",
     "output_type": "stream",
     "text": [
      "[7 2 1 ... 4 5 6]\n"
     ]
    }
   ],
   "source": [
    "p_test = model.predict(x_test).argmax(axis=1)\n",
    "print(p_test)"
   ]
  },
  {
   "cell_type": "code",
   "execution_count": 31,
   "metadata": {},
   "outputs": [
    {
     "data": {
      "text/plain": [
       "array([[ 971,    0,    0,    2,    0,    2,    2,    0,    2,    1],\n",
       "       [   0, 1123,    2,    1,    0,    0,    2,    1,    6,    0],\n",
       "       [   2,    0, 1003,    3,    3,    0,    3,    6,   12,    0],\n",
       "       [   0,    0,    3,  996,    0,    2,    0,    4,    5,    0],\n",
       "       [   1,    1,    1,    0,  962,    0,    5,    2,    2,    8],\n",
       "       [   2,    0,    0,   19,    1,  856,    3,    2,    6,    3],\n",
       "       [   5,    3,    0,    1,    5,    4,  937,    0,    3,    0],\n",
       "       [   1,    1,    8,    0,    0,    0,    0, 1007,    2,    9],\n",
       "       [   2,    0,    1,    5,    3,    5,    1,    4,  950,    3],\n",
       "       [   1,    4,    0,    6,    3,    2,    0,    4,    3,  986]],\n",
       "      dtype=int64)"
      ]
     },
     "execution_count": 31,
     "metadata": {},
     "output_type": "execute_result"
    }
   ],
   "source": [
    "cm = confusion_matrix(y_test, p_test)\n",
    "cm"
   ]
  },
  {
   "cell_type": "code",
   "execution_count": 37,
   "metadata": {},
   "outputs": [],
   "source": [
    "# Show some misclassified examples\n",
    "misclassified_idx = np.where(p_test != y_test)[0]"
   ]
  },
  {
   "cell_type": "code",
   "execution_count": 38,
   "metadata": {},
   "outputs": [
    {
     "data": {
      "text/plain": [
       "array([   8,  115,  149,  151,  247,  259,  321,  340,  381,  445,  447,\n",
       "        582,  619,  659,  691,  720,  844,  877,  924,  951,  965, 1014,\n",
       "       1032, 1039, 1082, 1112, 1181, 1182, 1194, 1226, 1232, 1242, 1247,\n",
       "       1260, 1299, 1319, 1328, 1393, 1403, 1466, 1522, 1530, 1549, 1553,\n",
       "       1609, 1621, 1681, 1717, 1721, 1737, 1754, 1790, 1800, 1878, 1901,\n",
       "       1984, 2004, 2016, 2024, 2035, 2043, 2044, 2053, 2070, 2109, 2118,\n",
       "       2125, 2129, 2130, 2135, 2182, 2185, 2189, 2224, 2272, 2293, 2299,\n",
       "       2369, 2387, 2406, 2422, 2454, 2462, 2597, 2648, 2654, 2743, 2810,\n",
       "       2927, 2939, 2953, 2970, 2995, 3073, 3117, 3260, 3289, 3330, 3405,\n",
       "       3422, 3451, 3503, 3520, 3549, 3558, 3565, 3567, 3597, 3604, 3681,\n",
       "       3718, 3780, 3808, 3853, 3893, 3902, 3906, 3941, 3943, 4065, 4075,\n",
       "       4078, 4176, 4199, 4201, 4205, 4224, 4248, 4255, 4271, 4289, 4306,\n",
       "       4355, 4360, 4497, 4504, 4536, 4571, 4601, 4615, 4761, 4807, 4823,\n",
       "       4860, 4880, 4956, 5078, 5331, 5457, 5600, 5634, 5642, 5654, 5749,\n",
       "       5888, 5937, 5944, 5955, 5972, 5973, 5982, 6059, 6065, 6071, 6166,\n",
       "       6390, 6555, 6560, 6571, 6574, 6597, 6598, 6625, 6641, 6651, 6755,\n",
       "       6783, 6847, 7216, 7434, 7511, 7821, 7886, 8020, 8091, 8094, 8255,\n",
       "       8311, 8325, 9009, 9015, 9019, 9024, 9071, 9280, 9422, 9587, 9634,\n",
       "       9664, 9669, 9679, 9729, 9745, 9755, 9768, 9770, 9779, 9792, 9839],\n",
       "      dtype=int64)"
      ]
     },
     "execution_count": 38,
     "metadata": {},
     "output_type": "execute_result"
    }
   ],
   "source": [
    "misclassified_idx"
   ]
  },
  {
   "cell_type": "code",
   "execution_count": 40,
   "metadata": {},
   "outputs": [
    {
     "data": {
      "text/plain": [
       "Text(0.5, 1.0, 'True Label: 4 Predicted Label: 9')"
      ]
     },
     "execution_count": 40,
     "metadata": {},
     "output_type": "execute_result"
    },
    {
     "data": {
      "image/png": "[encoded data removed]",
      "text/plain": [
       "<Figure size 432x288 with 1 Axes>"
      ]
     },
     "metadata": {
      "needs_background": "light"
     },
     "output_type": "display_data"
    }
   ],
   "source": [
    "# Randomly picking any misclassified image and showing it against true label\n",
    "i = np.random.choice(misclassified_idx)\n",
    "plt.imshow(x_test[i], cmap='gray')\n",
    "plt.title(\"True Label: %s Predicted Label: %s\" % (y_test[i], p_test[i]))"
   ]
  },
  {
   "cell_type": "code",
   "execution_count": 42,
   "metadata": {},
   "outputs": [],
   "source": [
    "# Thank You"
   ]
  },
  {
   "cell_type": "code",
   "execution_count": null,
   "metadata": {},
   "outputs": [],
   "source": []
  }
 ],
 "metadata": {
  "kernelspec": {
   "display_name": "Python [conda env:py3-TF2.0] *",
   "language": "python",
   "name": "conda-env-py3-TF2.0-py"
  },
  "language_info": {
   "codemirror_mode": {
    "name": "ipython",
    "version": 3
   },
   "file_extension": ".py",
   "mimetype": "text/x-python",
   "name": "python",
   "nbconvert_exporter": "python",
   "pygments_lexer": "ipython3",
   "version": "3.8.5"
  }
 },
 "nbformat": 4,
 "nbformat_minor": 4
}

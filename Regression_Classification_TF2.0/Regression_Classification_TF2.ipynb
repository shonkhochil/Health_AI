{
 "cells": [
  {
   "cell_type": "code",
   "execution_count": 81,
   "metadata": {},
   "outputs": [],
   "source": [
    "# Credit Lazy Programmer - Udemy TF Boot Camp. \n",
    "# Two basic neural network projects on Regression and Classification\n",
    "# Thank you!"
   ]
  },
  {
   "cell_type": "code",
   "execution_count": 21,
   "metadata": {},
   "outputs": [
    {
     "name": "stdout",
     "output_type": "stream",
     "text": [
      "2.3.0\n"
     ]
    }
   ],
   "source": [
    "import tensorflow as tf\n",
    "print(tf.__version__)"
   ]
  },
  {
   "cell_type": "code",
   "execution_count": 6,
   "metadata": {},
   "outputs": [],
   "source": [
    "import pandas as pd\n",
    "import numpy as np\n",
    "import matplotlib.pyplot as plt"
   ]
  },
  {
   "cell_type": "code",
   "execution_count": 8,
   "metadata": {},
   "outputs": [
    {
     "data": {
      "text/plain": [
       "['.ipynb_checkpoints',\n",
       " 'LR_TF_Implementation.ipynb',\n",
       " 'moore.csv',\n",
       " 'TF2_0_Linear_Classification.ipynb',\n",
       " 'TF2_0_Linear_Regression.ipynb']"
      ]
     },
     "execution_count": 8,
     "metadata": {},
     "output_type": "execute_result"
    }
   ],
   "source": [
    "import os\n",
    "os.listdir()"
   ]
  },
  {
   "cell_type": "code",
   "execution_count": 42,
   "metadata": {},
   "outputs": [],
   "source": [
    "# Project 1 : Linear Regression Implementation in fake data"
   ]
  },
  {
   "cell_type": "code",
   "execution_count": 12,
   "metadata": {},
   "outputs": [],
   "source": [
    "df = pd.read_csv('moore.csv', header=None).values"
   ]
  },
  {
   "cell_type": "code",
   "execution_count": 13,
   "metadata": {},
   "outputs": [
    {
     "data": {
      "text/plain": [
       "array([[       1971,        2300],\n",
       "       [       1972,        3500],\n",
       "       [       1973,        2500],\n",
       "       [       1973,        2500],\n",
       "       [       1974,        4100],\n",
       "       [       1974,        4500],\n",
       "       [       1974,        8000],\n",
       "       [       1975,        3510],\n",
       "       [       1976,        5000],\n",
       "       [       1976,        8500],\n",
       "       [       1976,        6500],\n",
       "       [       1978,        9000],\n",
       "       [       1978,       29000],\n",
       "       [       1979,       17500],\n",
       "       [       1979,       29000],\n",
       "       [       1979,       68000],\n",
       "       [       1981,       11500],\n",
       "       [       1982,       55000],\n",
       "       [       1982,      134000],\n",
       "       [       1983,       22000],\n",
       "       [       1984,       63000],\n",
       "       [       1984,      190000],\n",
       "       [       1985,      275000],\n",
       "       [       1985,       25000],\n",
       "       [       1985,       16000],\n",
       "       [       1986,      110000],\n",
       "       [       1986,      375000],\n",
       "       [       1986,       30000],\n",
       "       [       1987,      385000],\n",
       "       [       1987,      730000],\n",
       "       [       1987,      273000],\n",
       "       [       1987,      553000],\n",
       "       [       1988,      180000],\n",
       "       [       1988,      250000],\n",
       "       [       1989,      600000],\n",
       "       [       1989,     1000000],\n",
       "       [       1989,     1180235],\n",
       "       [       1989,      310000],\n",
       "       [       1990,     1200000],\n",
       "       [       1991,     1350000],\n",
       "       [       1991,       35000],\n",
       "       [       1992,      600000],\n",
       "       [       1992,      900000],\n",
       "       [       1993,     2800000],\n",
       "       [       1993,     3100000],\n",
       "       [       1994,      578977],\n",
       "       [       1994,     2500000],\n",
       "       [       1995,     2500000],\n",
       "       [       1999,      111000],\n",
       "       [       1995,     5500000],\n",
       "       [       1996,     4300000],\n",
       "       [       1997,    10000000],\n",
       "       [       1997,     7500000],\n",
       "       [       1997,     8800000],\n",
       "       [       1998,     7500000],\n",
       "       [       1999,     9500000],\n",
       "       [       1999,    13500000],\n",
       "       [       2000,    21000000],\n",
       "       [       2000,    21000000],\n",
       "       [       1999,    27400000],\n",
       "       [       1999,    21300000],\n",
       "       [       1999,    22000000],\n",
       "       [       2000,    42000000],\n",
       "       [       2001,   191000000],\n",
       "       [       2001,    45000000],\n",
       "       [       2002,    55000000],\n",
       "       [       2004,   112000000],\n",
       "       [       2004,   400000000],\n",
       "       [       2005,   169000000],\n",
       "       [       2006,   184000000],\n",
       "       [       2005,   228000000],\n",
       "       [       2006,   362000000],\n",
       "       [       2007,   540000000],\n",
       "       [       2008,    47000000],\n",
       "       [       2003,    54300000],\n",
       "       [       2003,   105900000],\n",
       "       [       2002,   220000000],\n",
       "       [       2005,   165000000],\n",
       "       [       2005,   250000000],\n",
       "       [       2006,   291000000],\n",
       "       [       2007,   169000000],\n",
       "       [       2003,   410000000],\n",
       "       [       2008,   600000000],\n",
       "       [       2009,   760000000],\n",
       "       [       2011,  1870000000],\n",
       "       [       2012,   432000000],\n",
       "       [       2007,   463000000],\n",
       "       [       2007,    26000000],\n",
       "       [       2008,   230000000],\n",
       "       [       2004,   592000000],\n",
       "       [       2007,   411000000],\n",
       "       [       2008,   731000000],\n",
       "       [       2008,   758000000],\n",
       "       [       2007,   789000000],\n",
       "       [       2009,   904000000],\n",
       "       [       2010,  1000000000],\n",
       "       [       2012,  2990000000],\n",
       "       [       2013,  1000000000],\n",
       "       [       2011,  1160000000],\n",
       "       [       2010,  1170000000],\n",
       "       [       2010,  1200000000],\n",
       "       [       2012,  1200000000],\n",
       "       [       2012,  1303000000],\n",
       "       [       2010,  1400000000],\n",
       "       [       2012,  1400000000],\n",
       "       [       2014,  1400000000],\n",
       "       [       2006,  1700000000],\n",
       "       [       2015,  1750000000],\n",
       "       [       2013,  1860000000],\n",
       "       [       2015,  1900000000],\n",
       "       [       2008,  1900000000],\n",
       "       [       2010,  2000000000],\n",
       "       [       2014,  2000000000],\n",
       "       [       2015,  2000000000],\n",
       "       [       2015,  3000000000],\n",
       "       [       2012,  2100000000],\n",
       "       [       2011,  2270000000],\n",
       "       [       2010,  2300000000],\n",
       "       [       2014,  2600000000],\n",
       "       [       2011,  2600000000],\n",
       "       [       2012,  2750000000],\n",
       "       [       2014,  3000000000],\n",
       "       [       2016,  3000000000],\n",
       "       [       2017,  5300000000],\n",
       "       [       2017,  5300000000],\n",
       "       [       2018,  8500000000],\n",
       "       [       2012,  3100000000],\n",
       "       [       2016,  3200000000],\n",
       "       [       2016,  3300000000],\n",
       "       [       2015,  3990000000],\n",
       "       [       2013,  4200000000],\n",
       "       [       2017,  4300000000],\n",
       "       [       2014,  4310000000],\n",
       "       [       2017,  4800000000],\n",
       "       [       2017,  4800000000],\n",
       "       [       2017,  4800000000],\n",
       "       [       2012,  5000000000],\n",
       "       [       2013,  5000000000],\n",
       "       [       2014,  5560000000],\n",
       "       [       2017,  6100000000],\n",
       "       [       2018,  6900000000],\n",
       "       [       2016,  4000000000],\n",
       "       [       2018,  6900000000],\n",
       "       [       2017,  5500000000],\n",
       "       [       2018,  5500000000],\n",
       "       [       2017,  7000000000],\n",
       "       [       2015,  7100000000],\n",
       "       [       2017,  8000000000],\n",
       "       [       2016,  7200000000],\n",
       "       [       2017,  8000000000],\n",
       "       [       2016,  8000000000],\n",
       "       [       2017,  9700000000],\n",
       "       [       2017,   250000000],\n",
       "       [       2015, 10000000000],\n",
       "       [       2017,  5450000000],\n",
       "       [       2018, 10000000000],\n",
       "       [       2017,  4300000000],\n",
       "       [       2017, 18000000000],\n",
       "       [       2017, 19200000000],\n",
       "       [       2018,  8876000000],\n",
       "       [       2018, 23600000000],\n",
       "       [       2018,  9000000000]], dtype=int64)"
      ]
     },
     "execution_count": 13,
     "metadata": {},
     "output_type": "execute_result"
    }
   ],
   "source": [
    "df"
   ]
  },
  {
   "cell_type": "code",
   "execution_count": 14,
   "metadata": {},
   "outputs": [],
   "source": [
    "X = df[:,0].reshape(-1,1)\n",
    "Y = df[:,1]"
   ]
  },
  {
   "cell_type": "code",
   "execution_count": 17,
   "metadata": {},
   "outputs": [
    {
     "data": {
      "image/png": "[encoded data removed]",
      "text/plain": [
       "<Figure size 720x576 with 1 Axes>"
      ]
     },
     "metadata": {
      "needs_background": "light"
     },
     "output_type": "display_data"
    }
   ],
   "source": [
    "# Plot data -- it's explonential in shape\n",
    "plt.figure(figsize=(10,8))\n",
    "plt.scatter(X,Y)\n",
    "plt.show()"
   ]
  },
  {
   "cell_type": "code",
   "execution_count": 18,
   "metadata": {},
   "outputs": [
    {
     "data": {
      "image/png": "[encoded data removed]",
      "text/plain": [
       "<Figure size 720x576 with 1 Axes>"
      ]
     },
     "metadata": {
      "needs_background": "light"
     },
     "output_type": "display_data"
    }
   ],
   "source": [
    "# For linear model -- let's take log of the data\n",
    "Y = np.log(Y)\n",
    "\n",
    "plt.figure(figsize=(10,8))\n",
    "plt.scatter(X,Y)\n",
    "plt.show()"
   ]
  },
  {
   "cell_type": "code",
   "execution_count": 19,
   "metadata": {},
   "outputs": [],
   "source": [
    "# Center X data \n",
    "X = X - X.mean()"
   ]
  },
  {
   "cell_type": "code",
   "execution_count": 20,
   "metadata": {},
   "outputs": [
    {
     "data": {
      "image/png": "[encoded data removed]",
      "text/plain": [
       "<Figure size 720x576 with 1 Axes>"
      ]
     },
     "metadata": {
      "needs_background": "light"
     },
     "output_type": "display_data"
    }
   ],
   "source": [
    "plt.figure(figsize=(10,8))\n",
    "plt.scatter(X,Y)\n",
    "plt.show()"
   ]
  },
  {
   "cell_type": "code",
   "execution_count": 25,
   "metadata": {},
   "outputs": [],
   "source": [
    "# Tensorflow Model\n",
    "model = tf.keras.models.Sequential([\n",
    "    tf.keras.layers.Input(shape=(1,)),\n",
    "    tf.keras.layers.Dense(1)\n",
    "])\n",
    "\n",
    "model.compile(optimizer=tf.keras.optimizers.SGD(0.001, 0.9), loss='mse')"
   ]
  },
  {
   "cell_type": "code",
   "execution_count": 26,
   "metadata": {},
   "outputs": [],
   "source": [
    "# Learning Rate Scheduler\n",
    "def schedule(epoch, lr):\n",
    "    if epoch >= 50:\n",
    "        return 0.0001\n",
    "    return 0.001"
   ]
  },
  {
   "cell_type": "code",
   "execution_count": 27,
   "metadata": {},
   "outputs": [],
   "source": [
    "scheduler = tf.keras.callbacks.LearningRateScheduler(schedule)"
   ]
  },
  {
   "cell_type": "code",
   "execution_count": 28,
   "metadata": {},
   "outputs": [
    {
     "name": "stdout",
     "output_type": "stream",
     "text": [
      "Epoch 1/300\n",
      "6/6 [==============================] - 0s 1ms/step - loss: 444.9225\n",
      "Epoch 2/300\n",
      "6/6 [==============================] - 0s 1ms/step - loss: 341.0484\n",
      "Epoch 3/300\n",
      "6/6 [==============================] - 0s 2ms/step - loss: 278.1709\n",
      "Epoch 4/300\n",
      "6/6 [==============================] - 0s 2ms/step - loss: 201.4505\n",
      "Epoch 5/300\n",
      "6/6 [==============================] - 0s 2ms/step - loss: 149.1136\n",
      "Epoch 6/300\n",
      "6/6 [==============================] - 0s 2ms/step - loss: 128.0006\n",
      "Epoch 7/300\n",
      "6/6 [==============================] - 0s 1ms/step - loss: 96.6580\n",
      "Epoch 8/300\n",
      "6/6 [==============================] - 0s 2ms/step - loss: 73.4489\n",
      "Epoch 9/300\n",
      "6/6 [==============================] - 0s 2ms/step - loss: 53.2727\n",
      "Epoch 10/300\n",
      "6/6 [==============================] - 0s 2ms/step - loss: 37.6569\n",
      "Epoch 11/300\n",
      "6/6 [==============================] - 0s 1ms/step - loss: 26.9169\n",
      "Epoch 12/300\n",
      "6/6 [==============================] - 0s 1ms/step - loss: 20.2165\n",
      "Epoch 13/300\n",
      "6/6 [==============================] - 0s 2ms/step - loss: 17.4464\n",
      "Epoch 14/300\n",
      "6/6 [==============================] - 0s 2ms/step - loss: 14.9710\n",
      "Epoch 15/300\n",
      "6/6 [==============================] - 0s 2ms/step - loss: 16.3231\n",
      "Epoch 16/300\n",
      "6/6 [==============================] - 0s 2ms/step - loss: 9.8966\n",
      "Epoch 17/300\n",
      "6/6 [==============================] - 0s 1ms/step - loss: 7.5384\n",
      "Epoch 18/300\n",
      "6/6 [==============================] - 0s 2ms/step - loss: 7.0013\n",
      "Epoch 19/300\n",
      "6/6 [==============================] - 0s 2ms/step - loss: 8.1448\n",
      "Epoch 20/300\n",
      "6/6 [==============================] - 0s 2ms/step - loss: 5.5992\n",
      "Epoch 21/300\n",
      "6/6 [==============================] - 0s 2ms/step - loss: 5.9005\n",
      "Epoch 22/300\n",
      "6/6 [==============================] - 0s 2ms/step - loss: 4.4178\n",
      "Epoch 23/300\n",
      "6/6 [==============================] - 0s 1ms/step - loss: 5.4249\n",
      "Epoch 24/300\n",
      "6/6 [==============================] - 0s 1ms/step - loss: 4.0657\n",
      "Epoch 25/300\n",
      "6/6 [==============================] - 0s 1ms/step - loss: 2.6593\n",
      "Epoch 26/300\n",
      "6/6 [==============================] - 0s 2ms/step - loss: 1.8596\n",
      "Epoch 27/300\n",
      "6/6 [==============================] - 0s 2ms/step - loss: 1.5268\n",
      "Epoch 28/300\n",
      "6/6 [==============================] - 0s 2ms/step - loss: 3.0105\n",
      "Epoch 29/300\n",
      "6/6 [==============================] - 0s 2ms/step - loss: 2.1540\n",
      "Epoch 30/300\n",
      "6/6 [==============================] - 0s 2ms/step - loss: 1.8974\n",
      "Epoch 31/300\n",
      "6/6 [==============================] - 0s 2ms/step - loss: 1.2697\n",
      "Epoch 32/300\n",
      "6/6 [==============================] - 0s 2ms/step - loss: 1.0497\n",
      "Epoch 33/300\n",
      "6/6 [==============================] - 0s 1ms/step - loss: 0.9189\n",
      "Epoch 34/300\n",
      "6/6 [==============================] - 0s 1ms/step - loss: 0.9788\n",
      "Epoch 35/300\n",
      "6/6 [==============================] - 0s 1ms/step - loss: 1.0237\n",
      "Epoch 36/300\n",
      "6/6 [==============================] - 0s 2ms/step - loss: 0.9528\n",
      "Epoch 37/300\n",
      "6/6 [==============================] - 0s 2ms/step - loss: 0.8855\n",
      "Epoch 38/300\n",
      "6/6 [==============================] - 0s 2ms/step - loss: 0.8889\n",
      "Epoch 39/300\n",
      "6/6 [==============================] - 0s 2ms/step - loss: 0.8799\n",
      "Epoch 40/300\n",
      "6/6 [==============================] - 0s 2ms/step - loss: 0.8789\n",
      "Epoch 41/300\n",
      "6/6 [==============================] - ETA: 0s - loss: 1.329 - 0s 2ms/step - loss: 1.0345\n",
      "Epoch 42/300\n",
      "6/6 [==============================] - 0s 2ms/step - loss: 1.0334\n",
      "Epoch 43/300\n",
      "6/6 [==============================] - 0s 2ms/step - loss: 0.9044\n",
      "Epoch 44/300\n",
      "6/6 [==============================] - 0s 2ms/step - loss: 0.9182\n",
      "Epoch 45/300\n",
      "6/6 [==============================] - 0s 1ms/step - loss: 1.1423\n",
      "Epoch 46/300\n",
      "6/6 [==============================] - 0s 2ms/step - loss: 1.0041\n",
      "Epoch 47/300\n",
      "6/6 [==============================] - 0s 2ms/step - loss: 0.9962\n",
      "Epoch 48/300\n",
      "6/6 [==============================] - 0s 2ms/step - loss: 1.0282\n",
      "Epoch 49/300\n",
      "6/6 [==============================] - 0s 1ms/step - loss: 0.9388\n",
      "Epoch 50/300\n",
      "6/6 [==============================] - 0s 2ms/step - loss: 1.1840\n",
      "Epoch 51/300\n",
      "6/6 [==============================] - 0s 2ms/step - loss: 0.9761\n",
      "Epoch 52/300\n",
      "6/6 [==============================] - 0s 2ms/step - loss: 0.9388\n",
      "Epoch 53/300\n",
      "6/6 [==============================] - 0s 2ms/step - loss: 0.9695\n",
      "Epoch 54/300\n",
      "6/6 [==============================] - 0s 2ms/step - loss: 0.8992\n",
      "Epoch 55/300\n",
      "6/6 [==============================] - 0s 2ms/step - loss: 0.8743\n",
      "Epoch 56/300\n",
      "6/6 [==============================] - 0s 1ms/step - loss: 0.8745\n",
      "Epoch 57/300\n",
      "6/6 [==============================] - 0s 1ms/step - loss: 0.8701\n",
      "Epoch 58/300\n",
      "6/6 [==============================] - 0s 2ms/step - loss: 0.8725\n",
      "Epoch 59/300\n",
      "6/6 [==============================] - 0s 1ms/step - loss: 0.8776\n",
      "Epoch 60/300\n",
      "6/6 [==============================] - 0s 1ms/step - loss: 0.8733\n",
      "Epoch 61/300\n",
      "6/6 [==============================] - 0s 2ms/step - loss: 0.9156\n",
      "Epoch 62/300\n",
      "6/6 [==============================] - 0s 1ms/step - loss: 0.9368\n",
      "Epoch 63/300\n",
      "6/6 [==============================] - 0s 1ms/step - loss: 0.8914\n",
      "Epoch 64/300\n",
      "6/6 [==============================] - 0s 1ms/step - loss: 0.9201\n",
      "Epoch 65/300\n",
      "6/6 [==============================] - 0s 2ms/step - loss: 0.9052\n",
      "Epoch 66/300\n",
      "6/6 [==============================] - 0s 1ms/step - loss: 0.8732\n",
      "Epoch 67/300\n",
      "6/6 [==============================] - 0s 1ms/step - loss: 0.8813\n",
      "Epoch 68/300\n",
      "6/6 [==============================] - 0s 1ms/step - loss: 0.8737\n",
      "Epoch 69/300\n",
      "6/6 [==============================] - 0s 1ms/step - loss: 0.8725\n",
      "Epoch 70/300\n",
      "6/6 [==============================] - 0s 1ms/step - loss: 0.8740\n",
      "Epoch 71/300\n",
      "6/6 [==============================] - 0s 1ms/step - loss: 0.8719\n",
      "Epoch 72/300\n",
      "6/6 [==============================] - 0s 1ms/step - loss: 0.8703\n",
      "Epoch 73/300\n",
      "6/6 [==============================] - 0s 1ms/step - loss: 0.8764\n",
      "Epoch 74/300\n",
      "6/6 [==============================] - 0s 1ms/step - loss: 0.8953\n",
      "Epoch 75/300\n",
      "6/6 [==============================] - 0s 1ms/step - loss: 0.8646\n",
      "Epoch 76/300\n",
      "6/6 [==============================] - 0s 1ms/step - loss: 0.9281\n",
      "Epoch 77/300\n",
      "6/6 [==============================] - 0s 1ms/step - loss: 1.0008\n",
      "Epoch 78/300\n",
      "6/6 [==============================] - 0s 2ms/step - loss: 0.8996\n",
      "Epoch 79/300\n",
      "6/6 [==============================] - 0s 1ms/step - loss: 0.8693\n",
      "Epoch 80/300\n",
      "6/6 [==============================] - 0s 1ms/step - loss: 0.8776\n",
      "Epoch 81/300\n",
      "6/6 [==============================] - 0s 2ms/step - loss: 0.8674\n",
      "Epoch 82/300\n",
      "6/6 [==============================] - 0s 2ms/step - loss: 0.8822\n",
      "Epoch 83/300\n",
      "6/6 [==============================] - 0s 2ms/step - loss: 0.8815\n",
      "Epoch 84/300\n",
      "6/6 [==============================] - 0s 2ms/step - loss: 0.8709\n",
      "Epoch 85/300\n",
      "6/6 [==============================] - 0s 1ms/step - loss: 0.8773\n",
      "Epoch 86/300\n",
      "6/6 [==============================] - 0s 1ms/step - loss: 0.8745\n",
      "Epoch 87/300\n",
      "6/6 [==============================] - 0s 1ms/step - loss: 0.8750\n",
      "Epoch 88/300\n",
      "6/6 [==============================] - 0s 2ms/step - loss: 0.8730\n",
      "Epoch 89/300\n",
      "6/6 [==============================] - 0s 2ms/step - loss: 0.8756\n",
      "Epoch 90/300\n",
      "6/6 [==============================] - 0s 2ms/step - loss: 0.8938\n",
      "Epoch 91/300\n",
      "6/6 [==============================] - 0s 1ms/step - loss: 0.8720\n",
      "Epoch 92/300\n",
      "6/6 [==============================] - 0s 836us/step - loss: 0.8752\n",
      "Epoch 93/300\n",
      "6/6 [==============================] - 0s 1ms/step - loss: 0.8806\n",
      "Epoch 94/300\n",
      "6/6 [==============================] - 0s 1ms/step - loss: 0.8851\n",
      "Epoch 95/300\n",
      "6/6 [==============================] - 0s 1ms/step - loss: 0.8978\n",
      "Epoch 96/300\n",
      "6/6 [==============================] - 0s 1ms/step - loss: 0.8869\n",
      "Epoch 97/300\n",
      "6/6 [==============================] - 0s 2ms/step - loss: 0.8684\n",
      "Epoch 98/300\n",
      "6/6 [==============================] - 0s 1ms/step - loss: 0.8733\n",
      "Epoch 99/300\n",
      "6/6 [==============================] - 0s 2ms/step - loss: 0.8709\n",
      "Epoch 100/300\n",
      "6/6 [==============================] - 0s 1ms/step - loss: 0.8720\n",
      "Epoch 101/300\n",
      "6/6 [==============================] - 0s 1ms/step - loss: 0.8723\n",
      "Epoch 102/300\n",
      "6/6 [==============================] - 0s 1ms/step - loss: 0.8723\n",
      "Epoch 103/300\n",
      "6/6 [==============================] - 0s 1ms/step - loss: 0.8686\n",
      "Epoch 104/300\n"
     ]
    },
    {
     "name": "stdout",
     "output_type": "stream",
     "text": [
      "6/6 [==============================] - 0s 1ms/step - loss: 0.8767\n",
      "Epoch 105/300\n",
      "6/6 [==============================] - 0s 1ms/step - loss: 0.8735\n",
      "Epoch 106/300\n",
      "6/6 [==============================] - 0s 2ms/step - loss: 0.8741\n",
      "Epoch 107/300\n",
      "6/6 [==============================] - 0s 1ms/step - loss: 0.8726\n",
      "Epoch 108/300\n",
      "6/6 [==============================] - 0s 1ms/step - loss: 0.8706\n",
      "Epoch 109/300\n",
      "6/6 [==============================] - 0s 2ms/step - loss: 0.8761\n",
      "Epoch 110/300\n",
      "6/6 [==============================] - 0s 1ms/step - loss: 0.8719\n",
      "Epoch 111/300\n",
      "6/6 [==============================] - 0s 1ms/step - loss: 0.8706\n",
      "Epoch 112/300\n",
      "6/6 [==============================] - 0s 1ms/step - loss: 0.8706\n",
      "Epoch 113/300\n",
      "6/6 [==============================] - 0s 1ms/step - loss: 0.8729\n",
      "Epoch 114/300\n",
      "6/6 [==============================] - 0s 1ms/step - loss: 0.8710\n",
      "Epoch 115/300\n",
      "6/6 [==============================] - 0s 836us/step - loss: 0.8724\n",
      "Epoch 116/300\n",
      "6/6 [==============================] - 0s 1ms/step - loss: 0.8749\n",
      "Epoch 117/300\n",
      "6/6 [==============================] - 0s 2ms/step - loss: 0.8866\n",
      "Epoch 118/300\n",
      "6/6 [==============================] - 0s 1ms/step - loss: 0.8825\n",
      "Epoch 119/300\n",
      "6/6 [==============================] - 0s 1ms/step - loss: 0.8714\n",
      "Epoch 120/300\n",
      "6/6 [==============================] - ETA: 0s - loss: 0.808 - 0s 1ms/step - loss: 0.8713\n",
      "Epoch 121/300\n",
      "6/6 [==============================] - 0s 1ms/step - loss: 0.8757\n",
      "Epoch 122/300\n",
      "6/6 [==============================] - 0s 1ms/step - loss: 0.8997\n",
      "Epoch 123/300\n",
      "6/6 [==============================] - 0s 1ms/step - loss: 0.8898\n",
      "Epoch 124/300\n",
      "6/6 [==============================] - 0s 835us/step - loss: 0.8702\n",
      "Epoch 125/300\n",
      "6/6 [==============================] - 0s 1ms/step - loss: 0.8825\n",
      "Epoch 126/300\n",
      "6/6 [==============================] - 0s 1ms/step - loss: 0.8636\n",
      "Epoch 127/300\n",
      "6/6 [==============================] - 0s 1ms/step - loss: 0.9089\n",
      "Epoch 128/300\n",
      "6/6 [==============================] - 0s 1ms/step - loss: 0.9091\n",
      "Epoch 129/300\n",
      "6/6 [==============================] - 0s 1ms/step - loss: 0.8778\n",
      "Epoch 130/300\n",
      "6/6 [==============================] - 0s 1ms/step - loss: 0.8700\n",
      "Epoch 131/300\n",
      "6/6 [==============================] - 0s 1ms/step - loss: 0.9150\n",
      "Epoch 132/300\n",
      "6/6 [==============================] - 0s 1ms/step - loss: 0.8731\n",
      "Epoch 133/300\n",
      "6/6 [==============================] - 0s 1ms/step - loss: 0.8938\n",
      "Epoch 134/300\n",
      "6/6 [==============================] - 0s 2ms/step - loss: 0.8892\n",
      "Epoch 135/300\n",
      "6/6 [==============================] - 0s 2ms/step - loss: 0.8735\n",
      "Epoch 136/300\n",
      "6/6 [==============================] - 0s 1ms/step - loss: 0.8740\n",
      "Epoch 137/300\n",
      "6/6 [==============================] - 0s 1ms/step - loss: 0.8731\n",
      "Epoch 138/300\n",
      "6/6 [==============================] - 0s 1ms/step - loss: 0.8892\n",
      "Epoch 139/300\n",
      "6/6 [==============================] - 0s 1ms/step - loss: 0.8721\n",
      "Epoch 140/300\n",
      "6/6 [==============================] - 0s 1ms/step - loss: 0.8749\n",
      "Epoch 141/300\n",
      "6/6 [==============================] - 0s 2ms/step - loss: 0.8857\n",
      "Epoch 142/300\n",
      "6/6 [==============================] - 0s 2ms/step - loss: 0.8848\n",
      "Epoch 143/300\n",
      "6/6 [==============================] - 0s 2ms/step - loss: 0.8734\n",
      "Epoch 144/300\n",
      "6/6 [==============================] - 0s 2ms/step - loss: 0.8732\n",
      "Epoch 145/300\n",
      "6/6 [==============================] - 0s 1ms/step - loss: 0.8890\n",
      "Epoch 146/300\n",
      "6/6 [==============================] - 0s 1ms/step - loss: 0.8884\n",
      "Epoch 147/300\n",
      "6/6 [==============================] - 0s 1ms/step - loss: 0.9320\n",
      "Epoch 148/300\n",
      "6/6 [==============================] - 0s 1ms/step - loss: 0.8976\n",
      "Epoch 149/300\n",
      "6/6 [==============================] - 0s 1ms/step - loss: 0.8685\n",
      "Epoch 150/300\n",
      "6/6 [==============================] - 0s 1ms/step - loss: 0.8913\n",
      "Epoch 151/300\n",
      "6/6 [==============================] - 0s 1ms/step - loss: 0.8933\n",
      "Epoch 152/300\n",
      "6/6 [==============================] - 0s 2ms/step - loss: 0.8707\n",
      "Epoch 153/300\n",
      "6/6 [==============================] - 0s 2ms/step - loss: 0.8813\n",
      "Epoch 154/300\n",
      "6/6 [==============================] - 0s 1ms/step - loss: 0.8767\n",
      "Epoch 155/300\n",
      "6/6 [==============================] - 0s 1ms/step - loss: 0.8750\n",
      "Epoch 156/300\n",
      "6/6 [==============================] - 0s 1ms/step - loss: 0.8748\n",
      "Epoch 157/300\n",
      "6/6 [==============================] - 0s 2ms/step - loss: 0.8736\n",
      "Epoch 158/300\n",
      "6/6 [==============================] - 0s 2ms/step - loss: 0.8714\n",
      "Epoch 159/300\n",
      "6/6 [==============================] - 0s 1ms/step - loss: 0.8713\n",
      "Epoch 160/300\n",
      "6/6 [==============================] - 0s 1ms/step - loss: 0.8747\n",
      "Epoch 161/300\n",
      "6/6 [==============================] - 0s 2ms/step - loss: 0.8889\n",
      "Epoch 162/300\n",
      "6/6 [==============================] - 0s 2ms/step - loss: 0.8789\n",
      "Epoch 163/300\n",
      "6/6 [==============================] - 0s 2ms/step - loss: 0.8690\n",
      "Epoch 164/300\n",
      "6/6 [==============================] - 0s 1ms/step - loss: 0.8722\n",
      "Epoch 165/300\n",
      "6/6 [==============================] - 0s 2ms/step - loss: 0.8722\n",
      "Epoch 166/300\n",
      "6/6 [==============================] - 0s 1ms/step - loss: 0.8795\n",
      "Epoch 167/300\n",
      "6/6 [==============================] - 0s 2ms/step - loss: 0.8764\n",
      "Epoch 168/300\n",
      "6/6 [==============================] - 0s 2ms/step - loss: 0.8914\n",
      "Epoch 169/300\n",
      "6/6 [==============================] - ETA: 0s - loss: 1.005 - 0s 2ms/step - loss: 0.8733\n",
      "Epoch 170/300\n",
      "6/6 [==============================] - 0s 1ms/step - loss: 0.8705\n",
      "Epoch 171/300\n",
      "6/6 [==============================] - 0s 2ms/step - loss: 0.8777\n",
      "Epoch 172/300\n",
      "6/6 [==============================] - 0s 1ms/step - loss: 0.8770\n",
      "Epoch 173/300\n",
      "6/6 [==============================] - 0s 2ms/step - loss: 0.8712\n",
      "Epoch 174/300\n",
      "6/6 [==============================] - 0s 2ms/step - loss: 0.8710\n",
      "Epoch 175/300\n",
      "6/6 [==============================] - 0s 1ms/step - loss: 0.8707\n",
      "Epoch 176/300\n",
      "6/6 [==============================] - 0s 2ms/step - loss: 0.8837\n",
      "Epoch 177/300\n",
      "6/6 [==============================] - 0s 2ms/step - loss: 0.8849\n",
      "Epoch 178/300\n",
      "6/6 [==============================] - 0s 2ms/step - loss: 0.8715\n",
      "Epoch 179/300\n",
      "6/6 [==============================] - 0s 2ms/step - loss: 0.8840\n",
      "Epoch 180/300\n",
      "6/6 [==============================] - 0s 1ms/step - loss: 0.8737\n",
      "Epoch 181/300\n",
      "6/6 [==============================] - 0s 1ms/step - loss: 0.8862\n",
      "Epoch 182/300\n",
      "6/6 [==============================] - 0s 1ms/step - loss: 0.8801\n",
      "Epoch 183/300\n",
      "6/6 [==============================] - 0s 2ms/step - loss: 0.8745\n",
      "Epoch 184/300\n",
      "6/6 [==============================] - 0s 2ms/step - loss: 0.8821\n",
      "Epoch 185/300\n",
      "6/6 [==============================] - 0s 2ms/step - loss: 0.8791\n",
      "Epoch 186/300\n",
      "6/6 [==============================] - 0s 1ms/step - loss: 0.8717\n",
      "Epoch 187/300\n",
      "6/6 [==============================] - 0s 1ms/step - loss: 0.8743\n",
      "Epoch 188/300\n",
      "6/6 [==============================] - 0s 1ms/step - loss: 0.8756\n",
      "Epoch 189/300\n",
      "6/6 [==============================] - 0s 1ms/step - loss: 0.8737\n",
      "Epoch 190/300\n",
      "6/6 [==============================] - 0s 1ms/step - loss: 0.8745\n",
      "Epoch 191/300\n",
      "6/6 [==============================] - 0s 1ms/step - loss: 0.8830\n",
      "Epoch 192/300\n",
      "6/6 [==============================] - 0s 1ms/step - loss: 0.8712\n",
      "Epoch 193/300\n",
      "6/6 [==============================] - 0s 1ms/step - loss: 0.8794\n",
      "Epoch 194/300\n",
      "6/6 [==============================] - 0s 1ms/step - loss: 0.8775\n",
      "Epoch 195/300\n",
      "6/6 [==============================] - 0s 836us/step - loss: 0.8743\n",
      "Epoch 196/300\n",
      "6/6 [==============================] - 0s 2ms/step - loss: 0.8739\n",
      "Epoch 197/300\n",
      "6/6 [==============================] - 0s 2ms/step - loss: 0.8742\n",
      "Epoch 198/300\n",
      "6/6 [==============================] - 0s 835us/step - loss: 0.8734\n",
      "Epoch 199/300\n",
      "6/6 [==============================] - 0s 1ms/step - loss: 0.8714\n",
      "Epoch 200/300\n",
      "6/6 [==============================] - 0s 1ms/step - loss: 0.8748\n",
      "Epoch 201/300\n",
      "6/6 [==============================] - 0s 1ms/step - loss: 0.8735\n",
      "Epoch 202/300\n",
      "6/6 [==============================] - 0s 1ms/step - loss: 0.9119\n",
      "Epoch 203/300\n",
      "6/6 [==============================] - 0s 2ms/step - loss: 0.8858\n",
      "Epoch 204/300\n",
      "6/6 [==============================] - 0s 836us/step - loss: 0.8670\n",
      "Epoch 205/300\n"
     ]
    },
    {
     "name": "stdout",
     "output_type": "stream",
     "text": [
      "6/6 [==============================] - 0s 1ms/step - loss: 0.8703\n",
      "Epoch 206/300\n",
      "6/6 [==============================] - 0s 1ms/step - loss: 0.8739\n",
      "Epoch 207/300\n",
      "6/6 [==============================] - 0s 1ms/step - loss: 0.8867\n",
      "Epoch 208/300\n",
      "6/6 [==============================] - 0s 1ms/step - loss: 0.8775\n",
      "Epoch 209/300\n",
      "6/6 [==============================] - 0s 1ms/step - loss: 0.8762\n",
      "Epoch 210/300\n",
      "6/6 [==============================] - 0s 2ms/step - loss: 0.8741\n",
      "Epoch 211/300\n",
      "6/6 [==============================] - 0s 2ms/step - loss: 0.8703\n",
      "Epoch 212/300\n",
      "6/6 [==============================] - 0s 2ms/step - loss: 0.8709\n",
      "Epoch 213/300\n",
      "6/6 [==============================] - 0s 2ms/step - loss: 0.8742\n",
      "Epoch 214/300\n",
      "6/6 [==============================] - 0s 1ms/step - loss: 0.8730\n",
      "Epoch 215/300\n",
      "6/6 [==============================] - 0s 2ms/step - loss: 0.8710\n",
      "Epoch 216/300\n",
      "6/6 [==============================] - 0s 2ms/step - loss: 0.8744\n",
      "Epoch 217/300\n",
      "6/6 [==============================] - 0s 1ms/step - loss: 0.8726\n",
      "Epoch 218/300\n",
      "6/6 [==============================] - 0s 2ms/step - loss: 0.8759\n",
      "Epoch 219/300\n",
      "6/6 [==============================] - 0s 2ms/step - loss: 0.8788\n",
      "Epoch 220/300\n",
      "6/6 [==============================] - 0s 2ms/step - loss: 0.8720\n",
      "Epoch 221/300\n",
      "6/6 [==============================] - 0s 1ms/step - loss: 0.8722\n",
      "Epoch 222/300\n",
      "6/6 [==============================] - 0s 1ms/step - loss: 0.8750\n",
      "Epoch 223/300\n",
      "6/6 [==============================] - 0s 2ms/step - loss: 0.8751\n",
      "Epoch 224/300\n",
      "6/6 [==============================] - 0s 2ms/step - loss: 0.8724\n",
      "Epoch 225/300\n",
      "6/6 [==============================] - 0s 2ms/step - loss: 0.8757\n",
      "Epoch 226/300\n",
      "6/6 [==============================] - 0s 2ms/step - loss: 0.8716\n",
      "Epoch 227/300\n",
      "6/6 [==============================] - 0s 1ms/step - loss: 0.8711\n",
      "Epoch 228/300\n",
      "6/6 [==============================] - 0s 2ms/step - loss: 0.8805\n",
      "Epoch 229/300\n",
      "6/6 [==============================] - 0s 2ms/step - loss: 0.8893\n",
      "Epoch 230/300\n",
      "6/6 [==============================] - 0s 1ms/step - loss: 0.8722\n",
      "Epoch 231/300\n",
      "6/6 [==============================] - 0s 2ms/step - loss: 0.8761\n",
      "Epoch 232/300\n",
      "6/6 [==============================] - 0s 1ms/step - loss: 0.8730\n",
      "Epoch 233/300\n",
      "6/6 [==============================] - 0s 2ms/step - loss: 0.8763\n",
      "Epoch 234/300\n",
      "6/6 [==============================] - 0s 2ms/step - loss: 0.8831\n",
      "Epoch 235/300\n",
      "6/6 [==============================] - 0s 2ms/step - loss: 0.8753\n",
      "Epoch 236/300\n",
      "6/6 [==============================] - 0s 2ms/step - loss: 0.8833\n",
      "Epoch 237/300\n",
      "6/6 [==============================] - 0s 2ms/step - loss: 0.8784\n",
      "Epoch 238/300\n",
      "6/6 [==============================] - 0s 2ms/step - loss: 0.8741\n",
      "Epoch 239/300\n",
      "6/6 [==============================] - 0s 2ms/step - loss: 0.8933\n",
      "Epoch 240/300\n",
      "6/6 [==============================] - 0s 2ms/step - loss: 0.8705\n",
      "Epoch 241/300\n",
      "6/6 [==============================] - 0s 1ms/step - loss: 0.8713\n",
      "Epoch 242/300\n",
      "6/6 [==============================] - 0s 1ms/step - loss: 0.8718\n",
      "Epoch 243/300\n",
      "6/6 [==============================] - 0s 1ms/step - loss: 0.8723\n",
      "Epoch 244/300\n",
      "6/6 [==============================] - 0s 1ms/step - loss: 0.8833\n",
      "Epoch 245/300\n",
      "6/6 [==============================] - 0s 2ms/step - loss: 0.8829\n",
      "Epoch 246/300\n",
      "6/6 [==============================] - 0s 2ms/step - loss: 0.8677\n",
      "Epoch 247/300\n",
      "6/6 [==============================] - 0s 2ms/step - loss: 0.8856\n",
      "Epoch 248/300\n",
      "6/6 [==============================] - 0s 2ms/step - loss: 0.8864\n",
      "Epoch 249/300\n",
      "6/6 [==============================] - 0s 2ms/step - loss: 0.8741\n",
      "Epoch 250/300\n",
      "6/6 [==============================] - 0s 1ms/step - loss: 0.8965\n",
      "Epoch 251/300\n",
      "6/6 [==============================] - 0s 2ms/step - loss: 0.9046\n",
      "Epoch 252/300\n",
      "6/6 [==============================] - 0s 2ms/step - loss: 0.8683\n",
      "Epoch 253/300\n",
      "6/6 [==============================] - 0s 2ms/step - loss: 0.8813\n",
      "Epoch 254/300\n",
      "6/6 [==============================] - 0s 2ms/step - loss: 0.8779\n",
      "Epoch 255/300\n",
      "6/6 [==============================] - 0s 1ms/step - loss: 0.8740\n",
      "Epoch 256/300\n",
      "6/6 [==============================] - 0s 2ms/step - loss: 0.8689\n",
      "Epoch 257/300\n",
      "6/6 [==============================] - 0s 2ms/step - loss: 0.8736\n",
      "Epoch 258/300\n",
      "6/6 [==============================] - 0s 1ms/step - loss: 0.8680\n",
      "Epoch 259/300\n",
      "6/6 [==============================] - 0s 1ms/step - loss: 0.8784\n",
      "Epoch 260/300\n",
      "6/6 [==============================] - 0s 2ms/step - loss: 0.8789\n",
      "Epoch 261/300\n",
      "6/6 [==============================] - 0s 1ms/step - loss: 0.8720\n",
      "Epoch 262/300\n",
      "6/6 [==============================] - 0s 2ms/step - loss: 0.8682\n",
      "Epoch 263/300\n",
      "6/6 [==============================] - 0s 1ms/step - loss: 0.8756\n",
      "Epoch 264/300\n",
      "6/6 [==============================] - 0s 2ms/step - loss: 0.8772\n",
      "Epoch 265/300\n",
      "6/6 [==============================] - 0s 2ms/step - loss: 0.8702\n",
      "Epoch 266/300\n",
      "6/6 [==============================] - 0s 2ms/step - loss: 0.8811\n",
      "Epoch 267/300\n",
      "6/6 [==============================] - ETA: 0s - loss: 0.560 - 0s 2ms/step - loss: 0.8807\n",
      "Epoch 268/300\n",
      "6/6 [==============================] - 0s 2ms/step - loss: 0.8750\n",
      "Epoch 269/300\n",
      "6/6 [==============================] - 0s 2ms/step - loss: 0.8743\n",
      "Epoch 270/300\n",
      "6/6 [==============================] - 0s 1ms/step - loss: 0.8738\n",
      "Epoch 271/300\n",
      "6/6 [==============================] - 0s 1ms/step - loss: 0.8754\n",
      "Epoch 272/300\n",
      "6/6 [==============================] - 0s 2ms/step - loss: 0.8761\n",
      "Epoch 273/300\n",
      "6/6 [==============================] - 0s 2ms/step - loss: 0.9101\n",
      "Epoch 274/300\n",
      "6/6 [==============================] - 0s 1ms/step - loss: 0.9131\n",
      "Epoch 275/300\n",
      "6/6 [==============================] - 0s 2ms/step - loss: 0.8784\n",
      "Epoch 276/300\n",
      "6/6 [==============================] - 0s 2ms/step - loss: 0.8938\n",
      "Epoch 277/300\n",
      "6/6 [==============================] - 0s 2ms/step - loss: 0.8790\n",
      "Epoch 278/300\n",
      "6/6 [==============================] - 0s 2ms/step - loss: 0.8788\n",
      "Epoch 279/300\n",
      "6/6 [==============================] - 0s 2ms/step - loss: 0.8795\n",
      "Epoch 280/300\n",
      "6/6 [==============================] - 0s 1ms/step - loss: 0.8706\n",
      "Epoch 281/300\n",
      "6/6 [==============================] - 0s 2ms/step - loss: 0.8788\n",
      "Epoch 282/300\n",
      "6/6 [==============================] - 0s 2ms/step - loss: 0.9003\n",
      "Epoch 283/300\n",
      "6/6 [==============================] - 0s 1ms/step - loss: 0.8831\n",
      "Epoch 284/300\n",
      "6/6 [==============================] - 0s 2ms/step - loss: 0.8744\n",
      "Epoch 285/300\n",
      "6/6 [==============================] - 0s 2ms/step - loss: 0.8718\n",
      "Epoch 286/300\n",
      "6/6 [==============================] - 0s 2ms/step - loss: 0.8708\n",
      "Epoch 287/300\n",
      "6/6 [==============================] - 0s 2ms/step - loss: 0.8717\n",
      "Epoch 288/300\n",
      "6/6 [==============================] - 0s 2ms/step - loss: 0.8745\n",
      "Epoch 289/300\n",
      "6/6 [==============================] - 0s 1ms/step - loss: 0.8698\n",
      "Epoch 290/300\n",
      "6/6 [==============================] - 0s 2ms/step - loss: 0.8733\n",
      "Epoch 291/300\n",
      "6/6 [==============================] - 0s 2ms/step - loss: 0.8739\n",
      "Epoch 292/300\n",
      "6/6 [==============================] - 0s 1ms/step - loss: 0.8829\n",
      "Epoch 293/300\n",
      "6/6 [==============================] - 0s 1ms/step - loss: 0.9072\n",
      "Epoch 294/300\n",
      "6/6 [==============================] - 0s 1ms/step - loss: 0.8848\n",
      "Epoch 295/300\n",
      "6/6 [==============================] - 0s 2ms/step - loss: 0.8905\n",
      "Epoch 296/300\n",
      "6/6 [==============================] - 0s 2ms/step - loss: 0.8787\n",
      "Epoch 297/300\n",
      "6/6 [==============================] - 0s 2ms/step - loss: 0.8688\n",
      "Epoch 298/300\n",
      "6/6 [==============================] - 0s 835us/step - loss: 0.8807\n",
      "Epoch 299/300\n",
      "6/6 [==============================] - 0s 1ms/step - loss: 0.8722\n",
      "Epoch 300/300\n",
      "6/6 [==============================] - 0s 835us/step - loss: 0.8794\n"
     ]
    }
   ],
   "source": [
    "# Train the model\n",
    "r = model.fit(X, Y, epochs=300, callbacks=[scheduler])"
   ]
  },
  {
   "cell_type": "code",
   "execution_count": 30,
   "metadata": {},
   "outputs": [
    {
     "data": {
      "image/png": "[encoded data removed]",
      "text/plain": [
       "<Figure size 720x576 with 1 Axes>"
      ]
     },
     "metadata": {
      "needs_background": "light"
     },
     "output_type": "display_data"
    }
   ],
   "source": [
    "# Plot the Loss\n",
    "plt.figure(figsize=(10,8))\n",
    "plt.plot(r.history['loss'], label='loss')\n",
    "plt.show()"
   ]
  },
  {
   "cell_type": "code",
   "execution_count": 31,
   "metadata": {},
   "outputs": [
    {
     "name": "stdout",
     "output_type": "stream",
     "text": [
      "[<tensorflow.python.keras.layers.core.Dense object at 0x00000153A935E670>]\n"
     ]
    }
   ],
   "source": [
    "print(model.layers)"
   ]
  },
  {
   "cell_type": "code",
   "execution_count": 33,
   "metadata": {},
   "outputs": [
    {
     "name": "stdout",
     "output_type": "stream",
     "text": [
      "[array([[0.3502662]], dtype=float32), array([17.765266], dtype=float32)]\n"
     ]
    }
   ],
   "source": [
    "print(model.layers[0].get_weights())"
   ]
  },
  {
   "cell_type": "code",
   "execution_count": 34,
   "metadata": {},
   "outputs": [
    {
     "name": "stdout",
     "output_type": "stream",
     "text": [
      "0.3502662\n"
     ]
    }
   ],
   "source": [
    "# Get the Slope of the line\n",
    "slope_a = model.layers[0].get_weights()[0][0,0]\n",
    "print(slope_a)"
   ]
  },
  {
   "cell_type": "code",
   "execution_count": 36,
   "metadata": {},
   "outputs": [
    {
     "name": "stdout",
     "output_type": "stream",
     "text": [
      "Time to Double:  1.978915474998169\n"
     ]
    }
   ],
   "source": [
    "print('Time to Double: ', np.log(2)/slope_a)"
   ]
  },
  {
   "cell_type": "code",
   "execution_count": 41,
   "metadata": {},
   "outputs": [
    {
     "data": {
      "image/png": "[encoded data removed]",
      "text/plain": [
       "<Figure size 720x576 with 1 Axes>"
      ]
     },
     "metadata": {
      "needs_background": "light"
     },
     "output_type": "display_data"
    }
   ],
   "source": [
    "# Making Predictions\n",
    "yhat = model.predict(X).flatten()\n",
    "plt.figure(figsize=(10,8))\n",
    "plt.scatter(X, Y)\n",
    "plt.plot(X, yhat)\n",
    "plt.show()"
   ]
  },
  {
   "cell_type": "code",
   "execution_count": 43,
   "metadata": {},
   "outputs": [],
   "source": [
    "# Project 2 : Classification Using Tensorflow - Breast Cancer data"
   ]
  },
  {
   "cell_type": "code",
   "execution_count": 46,
   "metadata": {},
   "outputs": [],
   "source": [
    "from sklearn.datasets import load_breast_cancer"
   ]
  },
  {
   "cell_type": "code",
   "execution_count": 47,
   "metadata": {},
   "outputs": [],
   "source": [
    "data = load_breast_cancer()"
   ]
  },
  {
   "cell_type": "code",
   "execution_count": 48,
   "metadata": {},
   "outputs": [
    {
     "data": {
      "text/plain": [
       "dict_keys(['data', 'target', 'frame', 'target_names', 'DESCR', 'feature_names', 'filename'])"
      ]
     },
     "execution_count": 48,
     "metadata": {},
     "output_type": "execute_result"
    }
   ],
   "source": [
    "data.keys()"
   ]
  },
  {
   "cell_type": "code",
   "execution_count": 49,
   "metadata": {},
   "outputs": [
    {
     "data": {
      "text/plain": [
       "(569, 30)"
      ]
     },
     "execution_count": 49,
     "metadata": {},
     "output_type": "execute_result"
    }
   ],
   "source": [
    "data.data.shape"
   ]
  },
  {
   "cell_type": "code",
   "execution_count": 50,
   "metadata": {},
   "outputs": [
    {
     "data": {
      "text/plain": [
       "array([0, 0, 0, 0, 0, 0, 0, 0, 0, 0, 0, 0, 0, 0, 0, 0, 0, 0, 0, 1, 1, 1,\n",
       "       0, 0, 0, 0, 0, 0, 0, 0, 0, 0, 0, 0, 0, 0, 0, 1, 0, 0, 0, 0, 0, 0,\n",
       "       0, 0, 1, 0, 1, 1, 1, 1, 1, 0, 0, 1, 0, 0, 1, 1, 1, 1, 0, 1, 0, 0,\n",
       "       1, 1, 1, 1, 0, 1, 0, 0, 1, 0, 1, 0, 0, 1, 1, 1, 0, 0, 1, 0, 0, 0,\n",
       "       1, 1, 1, 0, 1, 1, 0, 0, 1, 1, 1, 0, 0, 1, 1, 1, 1, 0, 1, 1, 0, 1,\n",
       "       1, 1, 1, 1, 1, 1, 1, 0, 0, 0, 1, 0, 0, 1, 1, 1, 0, 0, 1, 0, 1, 0,\n",
       "       0, 1, 0, 0, 1, 1, 0, 1, 1, 0, 1, 1, 1, 1, 0, 1, 1, 1, 1, 1, 1, 1,\n",
       "       1, 1, 0, 1, 1, 1, 1, 0, 0, 1, 0, 1, 1, 0, 0, 1, 1, 0, 0, 1, 1, 1,\n",
       "       1, 0, 1, 1, 0, 0, 0, 1, 0, 1, 0, 1, 1, 1, 0, 1, 1, 0, 0, 1, 0, 0,\n",
       "       0, 0, 1, 0, 0, 0, 1, 0, 1, 0, 1, 1, 0, 1, 0, 0, 0, 0, 1, 1, 0, 0,\n",
       "       1, 1, 1, 0, 1, 1, 1, 1, 1, 0, 0, 1, 1, 0, 1, 1, 0, 0, 1, 0, 1, 1,\n",
       "       1, 1, 0, 1, 1, 1, 1, 1, 0, 1, 0, 0, 0, 0, 0, 0, 0, 0, 0, 0, 0, 0,\n",
       "       0, 0, 1, 1, 1, 1, 1, 1, 0, 1, 0, 1, 1, 0, 1, 1, 0, 1, 0, 0, 1, 1,\n",
       "       1, 1, 1, 1, 1, 1, 1, 1, 1, 1, 1, 0, 1, 1, 0, 1, 0, 1, 1, 1, 1, 1,\n",
       "       1, 1, 1, 1, 1, 1, 1, 1, 1, 0, 1, 1, 1, 0, 1, 0, 1, 1, 1, 1, 0, 0,\n",
       "       0, 1, 1, 1, 1, 0, 1, 0, 1, 0, 1, 1, 1, 0, 1, 1, 1, 1, 1, 1, 1, 0,\n",
       "       0, 0, 1, 1, 1, 1, 1, 1, 1, 1, 1, 1, 1, 0, 0, 1, 0, 0, 0, 1, 0, 0,\n",
       "       1, 1, 1, 1, 1, 0, 1, 1, 1, 1, 1, 0, 1, 1, 1, 0, 1, 1, 0, 0, 1, 1,\n",
       "       1, 1, 1, 1, 0, 1, 1, 1, 1, 1, 1, 1, 0, 1, 1, 1, 1, 1, 0, 1, 1, 0,\n",
       "       1, 1, 1, 1, 1, 1, 1, 1, 1, 1, 1, 1, 0, 1, 0, 0, 1, 0, 1, 1, 1, 1,\n",
       "       1, 0, 1, 1, 0, 1, 0, 1, 1, 0, 1, 0, 1, 1, 1, 1, 1, 1, 1, 1, 0, 0,\n",
       "       1, 1, 1, 1, 1, 1, 0, 1, 1, 1, 1, 1, 1, 1, 1, 1, 1, 0, 1, 1, 1, 1,\n",
       "       1, 1, 1, 0, 1, 0, 1, 1, 0, 1, 1, 1, 1, 1, 0, 0, 1, 0, 1, 0, 1, 1,\n",
       "       1, 1, 1, 0, 1, 1, 0, 1, 0, 1, 0, 0, 1, 1, 1, 0, 1, 1, 1, 1, 1, 1,\n",
       "       1, 1, 1, 1, 1, 0, 1, 0, 0, 1, 1, 1, 1, 1, 1, 1, 1, 1, 1, 1, 1, 1,\n",
       "       1, 1, 1, 1, 1, 1, 1, 1, 1, 1, 1, 1, 0, 0, 0, 0, 0, 0, 1])"
      ]
     },
     "execution_count": 50,
     "metadata": {},
     "output_type": "execute_result"
    }
   ],
   "source": [
    "data.target"
   ]
  },
  {
   "cell_type": "code",
   "execution_count": 51,
   "metadata": {},
   "outputs": [
    {
     "data": {
      "text/plain": [
       "array(['mean radius', 'mean texture', 'mean perimeter', 'mean area',\n",
       "       'mean smoothness', 'mean compactness', 'mean concavity',\n",
       "       'mean concave points', 'mean symmetry', 'mean fractal dimension',\n",
       "       'radius error', 'texture error', 'perimeter error', 'area error',\n",
       "       'smoothness error', 'compactness error', 'concavity error',\n",
       "       'concave points error', 'symmetry error',\n",
       "       'fractal dimension error', 'worst radius', 'worst texture',\n",
       "       'worst perimeter', 'worst area', 'worst smoothness',\n",
       "       'worst compactness', 'worst concavity', 'worst concave points',\n",
       "       'worst symmetry', 'worst fractal dimension'], dtype='<U23')"
      ]
     },
     "execution_count": 51,
     "metadata": {},
     "output_type": "execute_result"
    }
   ],
   "source": [
    "data.feature_names"
   ]
  },
  {
   "cell_type": "code",
   "execution_count": 65,
   "metadata": {},
   "outputs": [],
   "source": [
    "from sklearn.model_selection import train_test_split\n",
    "X_train, X_test, y_train, y_test = train_test_split(data.data, data.target, test_size=0.25, random_state=101)"
   ]
  },
  {
   "cell_type": "code",
   "execution_count": 66,
   "metadata": {},
   "outputs": [],
   "source": [
    "N, D = X_train.shape"
   ]
  },
  {
   "cell_type": "code",
   "execution_count": 67,
   "metadata": {},
   "outputs": [
    {
     "data": {
      "text/plain": [
       "426"
      ]
     },
     "execution_count": 67,
     "metadata": {},
     "output_type": "execute_result"
    }
   ],
   "source": [
    "N"
   ]
  },
  {
   "cell_type": "code",
   "execution_count": 68,
   "metadata": {},
   "outputs": [
    {
     "data": {
      "text/plain": [
       "30"
      ]
     },
     "execution_count": 68,
     "metadata": {},
     "output_type": "execute_result"
    }
   ],
   "source": [
    "D"
   ]
  },
  {
   "cell_type": "code",
   "execution_count": 69,
   "metadata": {},
   "outputs": [],
   "source": [
    "# Scaling data\n",
    "from sklearn.preprocessing import StandardScaler\n",
    "scaler = StandardScaler()"
   ]
  },
  {
   "cell_type": "code",
   "execution_count": 70,
   "metadata": {},
   "outputs": [],
   "source": [
    "X_train = scaler.fit_transform(X_train)\n",
    "X_test = scaler.transform(X_test)"
   ]
  },
  {
   "cell_type": "code",
   "execution_count": 71,
   "metadata": {},
   "outputs": [],
   "source": [
    "# Build a Tensorflow Model\n",
    "\n",
    "model = tf.keras.Sequential([\n",
    "    tf.keras.layers.Input(shape=(D,)),\n",
    "    tf.keras.layers.Dense(1, activation='sigmoid')])\n",
    "\n",
    "\n",
    "model.compile(optimizer='adam',\n",
    "             loss='binary_crossentropy',\n",
    "             metrics=['accuracy'])"
   ]
  },
  {
   "cell_type": "code",
   "execution_count": 72,
   "metadata": {},
   "outputs": [
    {
     "name": "stdout",
     "output_type": "stream",
     "text": [
      "Epoch 1/100\n",
      "14/14 [==============================] - 0s 10ms/step - loss: 0.8967 - accuracy: 0.3944 - val_loss: 0.9158 - val_accuracy: 0.3497\n",
      "Epoch 2/100\n",
      "14/14 [==============================] - 0s 1ms/step - loss: 0.8010 - accuracy: 0.4977 - val_loss: 0.8186 - val_accuracy: 0.4825\n",
      "Epoch 3/100\n",
      "14/14 [==============================] - 0s 3ms/step - loss: 0.7200 - accuracy: 0.5798 - val_loss: 0.7356 - val_accuracy: 0.5385\n",
      "Epoch 4/100\n",
      "14/14 [==============================] - 0s 2ms/step - loss: 0.6521 - accuracy: 0.6526 - val_loss: 0.6661 - val_accuracy: 0.6294\n",
      "Epoch 5/100\n",
      "14/14 [==============================] - 0s 3ms/step - loss: 0.5944 - accuracy: 0.7019 - val_loss: 0.6091 - val_accuracy: 0.7063\n",
      "Epoch 6/100\n",
      "14/14 [==============================] - 0s 3ms/step - loss: 0.5459 - accuracy: 0.7488 - val_loss: 0.5621 - val_accuracy: 0.7692\n",
      "Epoch 7/100\n",
      "14/14 [==============================] - 0s 3ms/step - loss: 0.5050 - accuracy: 0.7840 - val_loss: 0.5213 - val_accuracy: 0.8042\n",
      "Epoch 8/100\n",
      "14/14 [==============================] - 0s 2ms/step - loss: 0.4704 - accuracy: 0.8263 - val_loss: 0.4862 - val_accuracy: 0.8252\n",
      "Epoch 9/100\n",
      "14/14 [==============================] - 0s 3ms/step - loss: 0.4398 - accuracy: 0.8380 - val_loss: 0.4568 - val_accuracy: 0.8392\n",
      "Epoch 10/100\n",
      "14/14 [==============================] - 0s 3ms/step - loss: 0.4139 - accuracy: 0.8521 - val_loss: 0.4295 - val_accuracy: 0.8392\n",
      "Epoch 11/100\n",
      "14/14 [==============================] - 0s 3ms/step - loss: 0.3903 - accuracy: 0.8685 - val_loss: 0.4060 - val_accuracy: 0.8462\n",
      "Epoch 12/100\n",
      "14/14 [==============================] - 0s 2ms/step - loss: 0.3701 - accuracy: 0.8779 - val_loss: 0.3849 - val_accuracy: 0.8601\n",
      "Epoch 13/100\n",
      "14/14 [==============================] - 0s 3ms/step - loss: 0.3518 - accuracy: 0.8897 - val_loss: 0.3666 - val_accuracy: 0.8671\n",
      "Epoch 14/100\n",
      "14/14 [==============================] - 0s 3ms/step - loss: 0.3357 - accuracy: 0.8991 - val_loss: 0.3501 - val_accuracy: 0.8881\n",
      "Epoch 15/100\n",
      "14/14 [==============================] - 0s 2ms/step - loss: 0.3211 - accuracy: 0.9014 - val_loss: 0.3354 - val_accuracy: 0.8951\n",
      "Epoch 16/100\n",
      "14/14 [==============================] - 0s 3ms/step - loss: 0.3081 - accuracy: 0.9061 - val_loss: 0.3221 - val_accuracy: 0.8951\n",
      "Epoch 17/100\n",
      "14/14 [==============================] - 0s 3ms/step - loss: 0.2961 - accuracy: 0.9061 - val_loss: 0.3101 - val_accuracy: 0.8951\n",
      "Epoch 18/100\n",
      "14/14 [==============================] - 0s 3ms/step - loss: 0.2855 - accuracy: 0.9108 - val_loss: 0.2984 - val_accuracy: 0.9021\n",
      "Epoch 19/100\n",
      "14/14 [==============================] - 0s 3ms/step - loss: 0.2754 - accuracy: 0.9202 - val_loss: 0.2881 - val_accuracy: 0.9021\n",
      "Epoch 20/100\n",
      "14/14 [==============================] - 0s 3ms/step - loss: 0.2661 - accuracy: 0.9225 - val_loss: 0.2789 - val_accuracy: 0.9021\n",
      "Epoch 21/100\n",
      "14/14 [==============================] - 0s 3ms/step - loss: 0.2578 - accuracy: 0.9225 - val_loss: 0.2702 - val_accuracy: 0.9021\n",
      "Epoch 22/100\n",
      "14/14 [==============================] - 0s 3ms/step - loss: 0.2501 - accuracy: 0.9225 - val_loss: 0.2619 - val_accuracy: 0.9021\n",
      "Epoch 23/100\n",
      "14/14 [==============================] - 0s 2ms/step - loss: 0.2427 - accuracy: 0.9272 - val_loss: 0.2543 - val_accuracy: 0.9091\n",
      "Epoch 24/100\n",
      "14/14 [==============================] - 0s 3ms/step - loss: 0.2359 - accuracy: 0.9296 - val_loss: 0.2472 - val_accuracy: 0.9091\n",
      "Epoch 25/100\n",
      "14/14 [==============================] - 0s 3ms/step - loss: 0.2298 - accuracy: 0.9343 - val_loss: 0.2404 - val_accuracy: 0.9161\n",
      "Epoch 26/100\n",
      "14/14 [==============================] - 0s 3ms/step - loss: 0.2237 - accuracy: 0.9366 - val_loss: 0.2344 - val_accuracy: 0.9161\n",
      "Epoch 27/100\n",
      "14/14 [==============================] - 0s 2ms/step - loss: 0.2184 - accuracy: 0.9390 - val_loss: 0.2282 - val_accuracy: 0.9161\n",
      "Epoch 28/100\n",
      "14/14 [==============================] - 0s 2ms/step - loss: 0.2129 - accuracy: 0.9437 - val_loss: 0.2229 - val_accuracy: 0.9231\n",
      "Epoch 29/100\n",
      "14/14 [==============================] - 0s 3ms/step - loss: 0.2082 - accuracy: 0.9437 - val_loss: 0.2177 - val_accuracy: 0.9301\n",
      "Epoch 30/100\n",
      "14/14 [==============================] - 0s 3ms/step - loss: 0.2037 - accuracy: 0.9460 - val_loss: 0.2127 - val_accuracy: 0.9371\n",
      "Epoch 31/100\n",
      "14/14 [==============================] - 0s 2ms/step - loss: 0.1995 - accuracy: 0.9460 - val_loss: 0.2079 - val_accuracy: 0.9441\n",
      "Epoch 32/100\n",
      "14/14 [==============================] - 0s 3ms/step - loss: 0.1953 - accuracy: 0.9460 - val_loss: 0.2036 - val_accuracy: 0.9441\n",
      "Epoch 33/100\n",
      "14/14 [==============================] - 0s 3ms/step - loss: 0.1914 - accuracy: 0.9460 - val_loss: 0.1993 - val_accuracy: 0.9441\n",
      "Epoch 34/100\n",
      "14/14 [==============================] - 0s 3ms/step - loss: 0.1877 - accuracy: 0.9460 - val_loss: 0.1952 - val_accuracy: 0.9441\n",
      "Epoch 35/100\n",
      "14/14 [==============================] - 0s 3ms/step - loss: 0.1842 - accuracy: 0.9460 - val_loss: 0.1912 - val_accuracy: 0.9441\n",
      "Epoch 36/100\n",
      "14/14 [==============================] - 0s 3ms/step - loss: 0.1808 - accuracy: 0.9460 - val_loss: 0.1874 - val_accuracy: 0.9510\n",
      "Epoch 37/100\n",
      "14/14 [==============================] - 0s 2ms/step - loss: 0.1776 - accuracy: 0.9460 - val_loss: 0.1838 - val_accuracy: 0.9510\n",
      "Epoch 38/100\n",
      "14/14 [==============================] - 0s 3ms/step - loss: 0.1746 - accuracy: 0.9460 - val_loss: 0.1806 - val_accuracy: 0.9510\n",
      "Epoch 39/100\n",
      "14/14 [==============================] - 0s 3ms/step - loss: 0.1718 - accuracy: 0.9460 - val_loss: 0.1774 - val_accuracy: 0.9510\n",
      "Epoch 40/100\n",
      "14/14 [==============================] - 0s 2ms/step - loss: 0.1691 - accuracy: 0.9460 - val_loss: 0.1743 - val_accuracy: 0.9510\n",
      "Epoch 41/100\n",
      "14/14 [==============================] - 0s 2ms/step - loss: 0.1664 - accuracy: 0.9460 - val_loss: 0.1713 - val_accuracy: 0.9510\n",
      "Epoch 42/100\n",
      "14/14 [==============================] - 0s 2ms/step - loss: 0.1639 - accuracy: 0.9484 - val_loss: 0.1686 - val_accuracy: 0.9510\n",
      "Epoch 43/100\n",
      "14/14 [==============================] - 0s 2ms/step - loss: 0.1616 - accuracy: 0.9507 - val_loss: 0.1660 - val_accuracy: 0.9510\n",
      "Epoch 44/100\n",
      "14/14 [==============================] - 0s 2ms/step - loss: 0.1592 - accuracy: 0.9507 - val_loss: 0.1634 - val_accuracy: 0.9510\n",
      "Epoch 45/100\n",
      "14/14 [==============================] - 0s 3ms/step - loss: 0.1570 - accuracy: 0.9507 - val_loss: 0.1607 - val_accuracy: 0.9510\n",
      "Epoch 46/100\n",
      "14/14 [==============================] - 0s 2ms/step - loss: 0.1549 - accuracy: 0.9554 - val_loss: 0.1583 - val_accuracy: 0.9510\n",
      "Epoch 47/100\n",
      "14/14 [==============================] - 0s 2ms/step - loss: 0.1528 - accuracy: 0.9554 - val_loss: 0.1559 - val_accuracy: 0.9510\n",
      "Epoch 48/100\n",
      "14/14 [==============================] - 0s 2ms/step - loss: 0.1509 - accuracy: 0.9554 - val_loss: 0.1537 - val_accuracy: 0.9510\n",
      "Epoch 49/100\n",
      "14/14 [==============================] - 0s 2ms/step - loss: 0.1490 - accuracy: 0.9554 - val_loss: 0.1515 - val_accuracy: 0.9580\n",
      "Epoch 50/100\n",
      "14/14 [==============================] - 0s 2ms/step - loss: 0.1473 - accuracy: 0.9554 - val_loss: 0.1494 - val_accuracy: 0.9650\n",
      "Epoch 51/100\n",
      "14/14 [==============================] - 0s 2ms/step - loss: 0.1455 - accuracy: 0.9554 - val_loss: 0.1474 - val_accuracy: 0.9650\n",
      "Epoch 52/100\n",
      "14/14 [==============================] - 0s 2ms/step - loss: 0.1438 - accuracy: 0.9554 - val_loss: 0.1454 - val_accuracy: 0.9650\n",
      "Epoch 53/100\n",
      "14/14 [==============================] - 0s 3ms/step - loss: 0.1422 - accuracy: 0.9554 - val_loss: 0.1434 - val_accuracy: 0.9650\n",
      "Epoch 54/100\n",
      "14/14 [==============================] - 0s 3ms/step - loss: 0.1406 - accuracy: 0.9554 - val_loss: 0.1417 - val_accuracy: 0.9650\n",
      "Epoch 55/100\n",
      "14/14 [==============================] - 0s 3ms/step - loss: 0.1391 - accuracy: 0.9601 - val_loss: 0.1400 - val_accuracy: 0.9650\n",
      "Epoch 56/100\n",
      "14/14 [==============================] - 0s 3ms/step - loss: 0.1377 - accuracy: 0.9624 - val_loss: 0.1382 - val_accuracy: 0.9650\n",
      "Epoch 57/100\n",
      "14/14 [==============================] - 0s 3ms/step - loss: 0.1362 - accuracy: 0.9624 - val_loss: 0.1365 - val_accuracy: 0.9650\n",
      "Epoch 58/100\n",
      "14/14 [==============================] - 0s 3ms/step - loss: 0.1348 - accuracy: 0.9624 - val_loss: 0.1349 - val_accuracy: 0.9650\n"
     ]
    },
    {
     "name": "stdout",
     "output_type": "stream",
     "text": [
      "Epoch 59/100\n",
      "14/14 [==============================] - 0s 3ms/step - loss: 0.1336 - accuracy: 0.9624 - val_loss: 0.1333 - val_accuracy: 0.9650\n",
      "Epoch 60/100\n",
      "14/14 [==============================] - 0s 2ms/step - loss: 0.1323 - accuracy: 0.9624 - val_loss: 0.1318 - val_accuracy: 0.9650\n",
      "Epoch 61/100\n",
      "14/14 [==============================] - 0s 3ms/step - loss: 0.1310 - accuracy: 0.9648 - val_loss: 0.1304 - val_accuracy: 0.9650\n",
      "Epoch 62/100\n",
      "14/14 [==============================] - 0s 2ms/step - loss: 0.1299 - accuracy: 0.9648 - val_loss: 0.1289 - val_accuracy: 0.9650\n",
      "Epoch 63/100\n",
      "14/14 [==============================] - 0s 2ms/step - loss: 0.1286 - accuracy: 0.9671 - val_loss: 0.1275 - val_accuracy: 0.9650\n",
      "Epoch 64/100\n",
      "14/14 [==============================] - 0s 2ms/step - loss: 0.1275 - accuracy: 0.9671 - val_loss: 0.1262 - val_accuracy: 0.9650\n",
      "Epoch 65/100\n",
      "14/14 [==============================] - 0s 3ms/step - loss: 0.1264 - accuracy: 0.9671 - val_loss: 0.1248 - val_accuracy: 0.9650\n",
      "Epoch 66/100\n",
      "14/14 [==============================] - 0s 3ms/step - loss: 0.1253 - accuracy: 0.9671 - val_loss: 0.1235 - val_accuracy: 0.9650\n",
      "Epoch 67/100\n",
      "14/14 [==============================] - 0s 3ms/step - loss: 0.1242 - accuracy: 0.9671 - val_loss: 0.1223 - val_accuracy: 0.9650\n",
      "Epoch 68/100\n",
      "14/14 [==============================] - 0s 3ms/step - loss: 0.1232 - accuracy: 0.9671 - val_loss: 0.1211 - val_accuracy: 0.9650\n",
      "Epoch 69/100\n",
      "14/14 [==============================] - 0s 3ms/step - loss: 0.1222 - accuracy: 0.9695 - val_loss: 0.1199 - val_accuracy: 0.9650\n",
      "Epoch 70/100\n",
      "14/14 [==============================] - 0s 2ms/step - loss: 0.1213 - accuracy: 0.9695 - val_loss: 0.1187 - val_accuracy: 0.9650\n",
      "Epoch 71/100\n",
      "14/14 [==============================] - 0s 3ms/step - loss: 0.1203 - accuracy: 0.9695 - val_loss: 0.1176 - val_accuracy: 0.9650\n",
      "Epoch 72/100\n",
      "14/14 [==============================] - 0s 3ms/step - loss: 0.1194 - accuracy: 0.9695 - val_loss: 0.1165 - val_accuracy: 0.9650\n",
      "Epoch 73/100\n",
      "14/14 [==============================] - 0s 3ms/step - loss: 0.1185 - accuracy: 0.9695 - val_loss: 0.1154 - val_accuracy: 0.9650\n",
      "Epoch 74/100\n",
      "14/14 [==============================] - 0s 3ms/step - loss: 0.1176 - accuracy: 0.9695 - val_loss: 0.1143 - val_accuracy: 0.9650\n",
      "Epoch 75/100\n",
      "14/14 [==============================] - 0s 2ms/step - loss: 0.1168 - accuracy: 0.9695 - val_loss: 0.1133 - val_accuracy: 0.9720\n",
      "Epoch 76/100\n",
      "14/14 [==============================] - 0s 2ms/step - loss: 0.1160 - accuracy: 0.9695 - val_loss: 0.1123 - val_accuracy: 0.9720\n",
      "Epoch 77/100\n",
      "14/14 [==============================] - 0s 2ms/step - loss: 0.1152 - accuracy: 0.9695 - val_loss: 0.1114 - val_accuracy: 0.9720\n",
      "Epoch 78/100\n",
      "14/14 [==============================] - 0s 2ms/step - loss: 0.1144 - accuracy: 0.9695 - val_loss: 0.1105 - val_accuracy: 0.9720\n",
      "Epoch 79/100\n",
      "14/14 [==============================] - 0s 3ms/step - loss: 0.1136 - accuracy: 0.9695 - val_loss: 0.1096 - val_accuracy: 0.9720\n",
      "Epoch 80/100\n",
      "14/14 [==============================] - 0s 3ms/step - loss: 0.1130 - accuracy: 0.9695 - val_loss: 0.1088 - val_accuracy: 0.9720\n",
      "Epoch 81/100\n",
      "14/14 [==============================] - 0s 3ms/step - loss: 0.1122 - accuracy: 0.9695 - val_loss: 0.1079 - val_accuracy: 0.9720\n",
      "Epoch 82/100\n",
      "14/14 [==============================] - 0s 2ms/step - loss: 0.1115 - accuracy: 0.9695 - val_loss: 0.1071 - val_accuracy: 0.9720\n",
      "Epoch 83/100\n",
      "14/14 [==============================] - 0s 2ms/step - loss: 0.1108 - accuracy: 0.9695 - val_loss: 0.1062 - val_accuracy: 0.9720\n",
      "Epoch 84/100\n",
      "14/14 [==============================] - 0s 2ms/step - loss: 0.1101 - accuracy: 0.9695 - val_loss: 0.1055 - val_accuracy: 0.9720\n",
      "Epoch 85/100\n",
      "14/14 [==============================] - 0s 2ms/step - loss: 0.1095 - accuracy: 0.9695 - val_loss: 0.1047 - val_accuracy: 0.9720\n",
      "Epoch 86/100\n",
      "14/14 [==============================] - 0s 2ms/step - loss: 0.1088 - accuracy: 0.9695 - val_loss: 0.1040 - val_accuracy: 0.9720\n",
      "Epoch 87/100\n",
      "14/14 [==============================] - 0s 2ms/step - loss: 0.1082 - accuracy: 0.9695 - val_loss: 0.1032 - val_accuracy: 0.9720\n",
      "Epoch 88/100\n",
      "14/14 [==============================] - 0s 3ms/step - loss: 0.1076 - accuracy: 0.9695 - val_loss: 0.1025 - val_accuracy: 0.9720\n",
      "Epoch 89/100\n",
      "14/14 [==============================] - 0s 2ms/step - loss: 0.1069 - accuracy: 0.9695 - val_loss: 0.1017 - val_accuracy: 0.9720\n",
      "Epoch 90/100\n",
      "14/14 [==============================] - 0s 3ms/step - loss: 0.1063 - accuracy: 0.9695 - val_loss: 0.1010 - val_accuracy: 0.9720\n",
      "Epoch 91/100\n",
      "14/14 [==============================] - 0s 3ms/step - loss: 0.1058 - accuracy: 0.9695 - val_loss: 0.1003 - val_accuracy: 0.9720\n",
      "Epoch 92/100\n",
      "14/14 [==============================] - 0s 2ms/step - loss: 0.1052 - accuracy: 0.9695 - val_loss: 0.0996 - val_accuracy: 0.9720\n",
      "Epoch 93/100\n",
      "14/14 [==============================] - 0s 3ms/step - loss: 0.1046 - accuracy: 0.9695 - val_loss: 0.0989 - val_accuracy: 0.9720\n",
      "Epoch 94/100\n",
      "14/14 [==============================] - 0s 2ms/step - loss: 0.1041 - accuracy: 0.9695 - val_loss: 0.0983 - val_accuracy: 0.9720\n",
      "Epoch 95/100\n",
      "14/14 [==============================] - 0s 2ms/step - loss: 0.1035 - accuracy: 0.9695 - val_loss: 0.0977 - val_accuracy: 0.9720\n",
      "Epoch 96/100\n",
      "14/14 [==============================] - 0s 3ms/step - loss: 0.1030 - accuracy: 0.9671 - val_loss: 0.0971 - val_accuracy: 0.9720\n",
      "Epoch 97/100\n",
      "14/14 [==============================] - 0s 2ms/step - loss: 0.1025 - accuracy: 0.9671 - val_loss: 0.0965 - val_accuracy: 0.9720\n",
      "Epoch 98/100\n",
      "14/14 [==============================] - 0s 3ms/step - loss: 0.1020 - accuracy: 0.9671 - val_loss: 0.0959 - val_accuracy: 0.9720\n",
      "Epoch 99/100\n",
      "14/14 [==============================] - 0s 2ms/step - loss: 0.1015 - accuracy: 0.9695 - val_loss: 0.0952 - val_accuracy: 0.9720\n",
      "Epoch 100/100\n",
      "14/14 [==============================] - 0s 2ms/step - loss: 0.1010 - accuracy: 0.9671 - val_loss: 0.0947 - val_accuracy: 0.9720\n"
     ]
    }
   ],
   "source": [
    "r = model.fit(X_train, y_train,\n",
    "         validation_data=(X_test, y_test), epochs=100)"
   ]
  },
  {
   "cell_type": "code",
   "execution_count": 73,
   "metadata": {},
   "outputs": [
    {
     "name": "stdout",
     "output_type": "stream",
     "text": [
      "14/14 [==============================] - 0s 2ms/step - loss: 0.1007 - accuracy: 0.9671\n",
      "Train score: [0.10069261491298676, 0.9671361446380615]\n",
      "5/5 [==============================] - 0s 1ms/step - loss: 0.0947 - accuracy: 0.9720\n",
      "Test score: [0.09465781599283218, 0.9720279574394226]\n"
     ]
    }
   ],
   "source": [
    "# Evaluate the model - evaluate() returns loss and accuracy\n",
    "print(\"Train score:\", model.evaluate(X_train, y_train))\n",
    "print(\"Test score:\", model.evaluate(X_test, y_test))"
   ]
  },
  {
   "cell_type": "code",
   "execution_count": 74,
   "metadata": {},
   "outputs": [
    {
     "data": {
      "text/plain": [
       "<matplotlib.legend.Legend at 0x153adf995b0>"
      ]
     },
     "execution_count": 74,
     "metadata": {},
     "output_type": "execute_result"
    },
    {
     "data": {
      "image/png": "[encoded data removed]",
      "text/plain": [
       "<Figure size 432x288 with 1 Axes>"
      ]
     },
     "metadata": {
      "needs_background": "light"
     },
     "output_type": "display_data"
    }
   ],
   "source": [
    "# Plot what's returned by model.fit()\n",
    "import matplotlib.pyplot as plt\n",
    "plt.plot(r.history['loss'], label='loss')\n",
    "plt.plot(r.history['val_loss'], label='val_loss')\n",
    "plt.legend()"
   ]
  },
  {
   "cell_type": "code",
   "execution_count": 76,
   "metadata": {},
   "outputs": [
    {
     "name": "stdout",
     "output_type": "stream",
     "text": [
      "[1. 1. 1. 0. 1. 1. 1. 0. 1. 1. 0. 1. 1. 1. 0. 1. 1. 1. 0. 1. 1. 1. 1. 1.\n",
      " 0. 1. 0. 1. 0. 0. 1. 0. 1. 0. 1. 1. 0. 1. 0. 0. 0. 1. 1. 1. 1. 1. 0. 1.\n",
      " 0. 1. 0. 1. 1. 0. 1. 1. 0. 0. 1. 1. 0. 0. 1. 1. 0. 1. 1. 0. 0. 1. 0. 1.\n",
      " 1. 1. 0. 0. 1. 0. 0. 1. 1. 1. 1. 1. 1. 1. 0. 1. 0. 0. 1. 0. 0. 1. 1. 1.\n",
      " 1. 1. 0. 0. 0. 1. 1. 1. 1. 1. 1. 1. 1. 1. 1. 1. 1. 0. 1. 1. 1. 0. 0. 0.\n",
      " 0. 0. 0. 1. 0. 1. 1. 1. 1. 1. 0. 0. 0. 1. 1. 1. 0. 0. 0. 1. 0. 1. 0.]\n"
     ]
    }
   ],
   "source": [
    "# Making Predictions\n",
    "P = model.predict(X_test)\n",
    "P = np.round(P).flatten()\n",
    "print(P)"
   ]
  },
  {
   "cell_type": "code",
   "execution_count": 77,
   "metadata": {},
   "outputs": [
    {
     "name": "stdout",
     "output_type": "stream",
     "text": [
      "Manually calculated accuracy: 0.972027972027972\n",
      "5/5 [==============================] - 0s 2ms/step - loss: 0.0947 - accuracy: 0.9720\n",
      "Evaluate output: [0.09465781599283218, 0.9720279574394226]\n"
     ]
    }
   ],
   "source": [
    "# Calculate the accuracy, compare it to evaluate() output\n",
    "print(\"Manually calculated accuracy:\", np.mean(P == y_test))\n",
    "print(\"Evaluate output:\", model.evaluate(X_test, y_test))"
   ]
  },
  {
   "cell_type": "code",
   "execution_count": 78,
   "metadata": {},
   "outputs": [],
   "source": [
    "# Saving and Loading Model\n",
    "# model.save('Cancer_Classification.h5')"
   ]
  },
  {
   "cell_type": "code",
   "execution_count": null,
   "metadata": {},
   "outputs": [],
   "source": [
    "# Loading the model \n",
    "# model = tf.kears.models.load_model('Cancer_Classification.h5')\n",
    "# print(model.layers)\n",
    "# model.evaluate(X_test, y_test)"
   ]
  },
  {
   "cell_type": "code",
   "execution_count": 79,
   "metadata": {},
   "outputs": [],
   "source": [
    "# Thank you!"
   ]
  }
 ],
 "metadata": {
  "kernelspec": {
   "display_name": "Python [conda env:py3-TF2.0] *",
   "language": "python",
   "name": "conda-env-py3-TF2.0-py"
  },
  "language_info": {
   "codemirror_mode": {
    "name": "ipython",
    "version": 3
   },
   "file_extension": ".py",
   "mimetype": "text/x-python",
   "name": "python",
   "nbconvert_exporter": "python",
   "pygments_lexer": "ipython3",
   "version": "3.8.5"
  }
 },
 "nbformat": 4,
 "nbformat_minor": 4
}
